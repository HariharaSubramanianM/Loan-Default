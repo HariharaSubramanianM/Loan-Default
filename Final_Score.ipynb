{
  "cells": [
    {
      "cell_type": "markdown",
      "metadata": {
        "id": "view-in-github",
        "colab_type": "text"
      },
      "source": [
        "<a href=\"https://colab.research.google.com/github/HariharaSubramanianM/Loan-Default/blob/master/Final_Score.ipynb\" target=\"_parent\"><img src=\"https://colab.research.google.com/assets/colab-badge.svg\" alt=\"Open In Colab\"/></a>"
      ]
    },
    {
      "cell_type": "markdown",
      "source": [
        "Imports and Normalize"
      ],
      "metadata": {
        "id": "fzbw7Ng1WByN"
      },
      "id": "fzbw7Ng1WByN"
    },
    {
      "cell_type": "code",
      "source": [
        "import pandas as pd\n",
        "\n",
        "pdict =  pd.read_excel(r\"PositiveFactors.xlsx\",sheet_name=['Factor1','Factor2','Factor3','Factor4','Factor5','Factor6','Factor7','Factor9','Factor10'])\n",
        "ndict =  pd.read_excel(r\"NegativeFactors.xlsx\",sheet_name=['FactorA','FactorB','FactorC','FactorD','FactorE','FactorF','FactorG','FactorH','FactorI'])\n",
        "clgranks =  pd.read_excel(r\"clgranks.xlsx\")\n",
        "clgranks = clgranks.set_index('Name')\n"
      ],
      "metadata": {
        "id": "U7p4_DRNV_nP"
      },
      "id": "U7p4_DRNV_nP",
      "execution_count": null,
      "outputs": []
    },
    {
      "cell_type": "code",
      "source": [
        "\n",
        "#normalize\n",
        "\n",
        "def normalize(d1):\n",
        "  dmax=max(d1.values())[0]\n",
        "  for key in d1:\n",
        "    d1[key]=((d1[key][0]/dmax)*10)\n",
        "  return d1\n"
      ],
      "metadata": {
        "id": "RId86UAvWYo3"
      },
      "id": "RId86UAvWYo3",
      "execution_count": null,
      "outputs": []
    },
    {
      "cell_type": "code",
      "source": [
        "#Range Dict\n",
        "class RangeDict(dict):\n",
        "    def __getitem__(self, item):\n",
        "        if not isinstance(item, range): \n",
        "            for key in self:\n",
        "                if item in key:\n",
        "                    return self[key]\n",
        "            raise KeyError(item)\n",
        "        else:\n",
        "            return super().__getitem__(item)\n",
        "\n",
        "\n"
      ],
      "metadata": {
        "id": "rPl9HFAhWZOP"
      },
      "id": "rPl9HFAhWZOP",
      "execution_count": null,
      "outputs": []
    },
    {
      "cell_type": "code",
      "source": [
        "def rangegen(d):\n",
        "  ret=RangeDict({})\n",
        "  for key,value in d.items():\n",
        "    start,end = [int(i) for i in key.split('-')]\n",
        "    dtemp = RangeDict({range(start,end):value})     # left value inclusive, right value exclusive\n",
        "    ret.update(dtemp)\n",
        "  return ret\n"
      ],
      "metadata": {
        "id": "LhYIkrL6gtLj"
      },
      "id": "LhYIkrL6gtLj",
      "execution_count": null,
      "outputs": []
    },
    {
      "cell_type": "markdown",
      "id": "d9cd0ad5",
      "metadata": {
        "id": "d9cd0ad5"
      },
      "source": [
        "# Find Positive Score"
      ]
    },
    {
      "cell_type": "code",
      "source": [
        "p1 = normalize(pdict.get('Factor1').set_index('F1').T.to_dict('list'))\n",
        "p2 = normalize(pdict.get('Factor2').set_index('F2').T.to_dict('list'))\n",
        "p3 = normalize(pdict.get('Factor3').set_index('F3').T.to_dict('list'))\n",
        "# p5 = normalize(pdict.get('Factor5').set_index('F5').T.to_dict('list'))\n",
        "p6 = normalize(pdict.get('Factor6').set_index('F6').T.to_dict('list'))\n",
        "p9 = normalize(pdict.get('Factor9').set_index('F9').T.to_dict('list'))\n",
        "p10 =normalize(pdict.get('Factor10').set_index('F10').T.to_dict('list'))\n",
        "\n",
        "# Range Dicts\n",
        "p4 = rangegen(normalize(pdict.get('Factor4').set_index('F4').T.to_dict('list')))\n",
        "p7 = rangegen(normalize(pdict.get('Factor7').set_index('F7').T.to_dict('list')))"
      ],
      "metadata": {
        "id": "GY6yDWAPWQ18"
      },
      "id": "GY6yDWAPWQ18",
      "execution_count": null,
      "outputs": []
    },
    {
      "cell_type": "code",
      "source": [
        "clg='THIAGARAJAR COLLEGE OF ENGINEERING'\n",
        "p1[clgranks.loc[clg.strip().upper()].NAAC]\n"
      ],
      "metadata": {
        "colab": {
          "base_uri": "https://localhost:8080/"
        },
        "id": "BE65ZkiOcR2U",
        "outputId": "2c9bea10-e460-4211-faf4-6ea076d0f269"
      },
      "id": "BE65ZkiOcR2U",
      "execution_count": null,
      "outputs": [
        {
          "output_type": "execute_result",
          "data": {
            "text/plain": [
              "9.0"
            ]
          },
          "metadata": {},
          "execution_count": 133
        }
      ]
    },
    {
      "cell_type": "markdown",
      "id": "fdcd236a",
      "metadata": {
        "id": "fdcd236a"
      },
      "source": [
        "# Find Negative Score"
      ]
    },
    {
      "cell_type": "markdown",
      "source": [
        "import json\n",
        "import urllib\n",
        "import requests\n",
        "\n",
        "url = 'https://parseapi.back4app.com/classes/india_cities_database?limit=3369&order=ascii_name&keys=ascii_name,population'\n",
        "headers = {\n",
        "    'X-Parse-Application-Id': 'k9wzhXDJckHtuuKmMEm8hceXoCZMvxN4CTijZOjn', # This is the fake app's application id\n",
        "    'X-Parse-Master-Key': 'EpjKI6bUlgkIbOAAUaDKDFj6x2C3AnsZZJqoa4ak' # This is the fake app's readonly master key\n",
        "}\n",
        "data = json.loads(requests.get(url, headers=headers).content.decode('utf-8')) # Here you have the data that you need\n",
        "\n",
        "city=[]\n",
        "population=[]\n",
        "\n",
        "for i in data[\"results\"]:\n",
        "  city.append(i[\"ascii_name\"])\n",
        "  population.append(i[\"population\"])\n",
        "\n",
        "cityapi=df = pd.DataFrame(list(zip(city, population)),columns =['City', 'Population'])\n",
        "filename='CityAPI.xlsx'\n",
        "cityapi.to_excel(filename)\n"
      ],
      "metadata": {
        "id": "gr--qCJwbl6m"
      },
      "id": "gr--qCJwbl6m"
    },
    {
      "cell_type": "code",
      "source": [
        "# Negative Factor - A\n",
        "def city_range_gen(d):\n",
        "  ret=RangeDict({})\n",
        "\n",
        "  # ref : https://www.rbi.org.in/scripts/bs_viewcontent.aspx?Id=2035#:~:text=Rural%3A%20population%20less%20than%2010%2C000,Metropolitan%3A%2010%20lakh%20and%20above\n",
        "\n",
        "  city_pop_range={'Rural':[0,10000],'Semi Urban':[10000,100000],'Urban':[100000,1000000],'Metropolitan':[1000000,2000000000]} #2000000000 is rounded max int range\n",
        "  for key,value in d.items():\n",
        "    start,end = city_pop_range[key]\n",
        "    dtemp = RangeDict({range(start,end):value})\n",
        "    ret.update(dtemp)\n",
        "  return ret"
      ],
      "metadata": {
        "id": "bIXS50Rhgrfu"
      },
      "id": "bIXS50Rhgrfu",
      "execution_count": null,
      "outputs": []
    },
    {
      "cell_type": "code",
      "source": [
        ""
      ],
      "metadata": {
        "id": "uFtIYnVuo4m2"
      },
      "id": "uFtIYnVuo4m2",
      "execution_count": null,
      "outputs": []
    },
    {
      "cell_type": "code",
      "source": [
        "# Negative Factor - C\n",
        "def bor_mar(totamt,getamt,perc):\n",
        "  diff = totamt-getamt\n",
        "  rel_diff = (diff/totamt)*100\n",
        "  risk_val = 10 - rel_diff*(perc/100)\n",
        "  return risk_val"
      ],
      "metadata": {
        "id": "JL9FGMTfml4L"
      },
      "id": "JL9FGMTfml4L",
      "execution_count": null,
      "outputs": []
    },
    {
      "cell_type": "code",
      "source": [
        "nb = normalize(ndict.get('FactorB').set_index('FB').T.to_dict('list'))                   #Marital Status\n",
        "nh = normalize(ndict.get('FactorH').set_index('FH').T.to_dict('list'))                   #Aadhar with KYV\n",
        "\n",
        "#RangeDict\n",
        "na = city_range_gen(normalize(ndict.get('FactorA').set_index('FA').T.to_dict('list')))   #city_range_gen(normalize( {'Metropolitan': [7], 'Rural': [8], 'Semi Urban': [5], 'Urban': [6]} ))\n",
        "nf = rangegen(normalize(ndict.get('FactorF').set_index('FF').T.to_dict('list')))         #Loan Amount\n",
        "ng = rangegen(normalize(ndict.get('FactorG').set_index('FG').T.to_dict('list')))         #Repayment Period\n",
        "ni = rangegen(normalize(ndict.get('FactorI').set_index('FI').T.to_dict('list')))         #Age\n",
        "\n",
        "\n",
        "#Custom Number\n",
        "nc = ndict.get('FactorC').set_index('FC').T.to_dict('list')['Margin'][0]                  #Borrower Margin\n",
        "nd = ndict.get('FactorD').set_index('FD').T.to_dict('list')['SecurityRatio'][0]           #Security or Not\n",
        "ne = ndict.get('FactorE').set_index('FE').T.to_dict('list')['MaletoFemale'][0]            #gender"
      ],
      "metadata": {
        "id": "Sgk0UCjEbYaB"
      },
      "id": "Sgk0UCjEbYaB",
      "execution_count": null,
      "outputs": []
    },
    {
      "cell_type": "code",
      "source": [
        "securitydict={\"Yes\":10/nd, \"No\":10}\n",
        "genderdict={\"Male\":10/ne,\"Female\":10}"
      ],
      "metadata": {
        "id": "PagerJAqpQ1I"
      },
      "id": "PagerJAqpQ1I",
      "execution_count": null,
      "outputs": []
    },
    {
      "cell_type": "markdown",
      "id": "f9269512",
      "metadata": {
        "id": "f9269512"
      },
      "source": [
        "# Calculate Final Score"
      ]
    },
    {
      "cell_type": "markdown",
      "source": [
        "FINAL SCORE CALCULATION\n",
        "\n",
        "min positive = 5.98\n",
        "min negative = 6.0 \n",
        "\n",
        "max pos-neg = 10-6 = 4\n",
        "min pos-neg = -4.02\n",
        "\n",
        "range = 8.02\n",
        "\n",
        "final value = [ (val+4.02)/8.02 ] * 10"
      ],
      "metadata": {
        "id": "ZKmbEDMRjndW"
      },
      "id": "ZKmbEDMRjndW"
    },
    {
      "cell_type": "markdown",
      "id": "6121dc26",
      "metadata": {
        "id": "6121dc26"
      },
      "source": [
        "# Positive Score"
      ]
    },
    {
      "cell_type": "code",
      "source": [
        "def find_pos_score(college,current_course,upskill_course,marks10,marks12,medium,parent_edu,board):\n",
        "    W1,W2,W3,W4A,W4B,W6,W7,W9,W10 = 4.5,5,4.5,4,4,4,4.5,3.5,4\n",
        "    S=38\n",
        "    w1,w2,w3,w4a,w4b,w6,w7,w9,w10 = W1/S,W2/S,W3/S,W4A/S,W4B/S,W6/S,W7/S,W9/S,W10/S\n",
        "\n",
        "    f1=p1[clgranks.loc[college.strip().upper()].NAAC]\n",
        "    f2=p2[current_course.strip()]\n",
        "    f3=p3[upskill_course.strip()]\n",
        "    f4a = p4[marks10]\n",
        "    f4b = p4[marks12]\n",
        "    # f5 = p5(city.strip().upper())\n",
        "    f6 = p6[medium.strip()]\n",
        "    f7 = p7[clgranks.loc[college.strip().upper()].Rank]\n",
        "    f9 = p9[parent_edu.strip()]\n",
        "    f10 = p10[board.strip()]\n",
        "\n",
        "    score = w1*f1 + w2*f2 + w3*f3 + w4a*f4a + w4b*f4b + w6*f6 + w7*f7 + w9*f9 + w10*f10\n",
        "    score = round(score,2)\n",
        "    return score"
      ],
      "metadata": {
        "id": "hKlg2oNygLbN"
      },
      "id": "hKlg2oNygLbN",
      "execution_count": null,
      "outputs": []
    },
    {
      "cell_type": "code",
      "source": [
        "pos_score = find_pos_score(\"Thiagarajar College of Engineering\",\"BE in CS\",\"IT\",92,91,\"English\",\"Graduate\",\"State\")\n",
        "print(pos_score)"
      ],
      "metadata": {
        "colab": {
          "base_uri": "https://localhost:8080/"
        },
        "id": "gCXzDkEsg0jm",
        "outputId": "2eaba84c-dad6-454b-988c-ede17d5adfb8"
      },
      "id": "gCXzDkEsg0jm",
      "execution_count": null,
      "outputs": [
        {
          "output_type": "stream",
          "name": "stdout",
          "text": [
            "9.58\n"
          ]
        }
      ]
    },
    {
      "cell_type": "markdown",
      "id": "90e06f2e",
      "metadata": {
        "id": "90e06f2e"
      },
      "source": [
        "# Risk Score"
      ]
    },
    {
      "cell_type": "code",
      "source": [
        "def find_neg_score(region,mar_status,bow_margin,security,gender,amount,period,kyc,age):\n",
        "    fA = na[find_pop(region)]\n",
        "    fB = nb[mar_status]\n",
        "    fC = bor_mar(bow_margin,amount,nc)\n",
        "    fD = securitydict[security]\n",
        "    fE = genderdict[gender]\n",
        "    fF = nf[amount]\n",
        "    fG = ng[period]\n",
        "    fH = nh[kyc]\n",
        "    fI = ni[age]\n",
        "    W1,W2,W3,W4,W5,W6,W7,W8,W9 = 3.5,3.5,5,5,4,4.5,4,5,4\n",
        "    S=38.5\n",
        "    w1,w2,w3,w4,w5,w6,w7,w8,w9 = W1/S,W2/S,W3/S,W4/S,W5/S,W6/S,W7/S,W8/S,W9/S\n",
        "    score = w1*fA + w2*fB + w3*fC + w4*fD + w5*fE + w6*fF + w7*fG + w8*fH + w9*fI\n",
        "    score = round(score,2)\n",
        "    return score"
      ],
      "metadata": {
        "id": "Z8fey3NNVACV"
      },
      "id": "Z8fey3NNVACV",
      "execution_count": null,
      "outputs": []
    },
    {
      "cell_type": "code",
      "source": [
        "neg_score = find_neg_score(\"Chennai\",\"No\",1000000,\"Yes\",\"Male\",800000,10,\"Yes\",21)\n",
        "print(neg_score)"
      ],
      "metadata": {
        "colab": {
          "base_uri": "https://localhost:8080/"
        },
        "id": "J2wHsDk2igV5",
        "outputId": "b74e7ff7-d6ec-4ad8-98eb-3086bdb4f0ff"
      },
      "id": "J2wHsDk2igV5",
      "execution_count": null,
      "outputs": [
        {
          "output_type": "stream",
          "name": "stdout",
          "text": [
            "7.31\n"
          ]
        }
      ]
    },
    {
      "cell_type": "markdown",
      "source": [
        "# Final Score"
      ],
      "metadata": {
        "id": "yyFzCT7umNBN"
      },
      "id": "yyFzCT7umNBN"
    },
    {
      "cell_type": "code",
      "source": [
        "final_score = ((pos_score-neg_score+4.02)/8.02)*10\n",
        "print(final_score)"
      ],
      "metadata": {
        "colab": {
          "base_uri": "https://localhost:8080/"
        },
        "id": "TBTkNnvOihRL",
        "outputId": "e601b77d-c571-4a03-ac91-c2496f34bba8"
      },
      "id": "TBTkNnvOihRL",
      "execution_count": null,
      "outputs": [
        {
          "output_type": "stream",
          "name": "stdout",
          "text": [
            "7.8428927680798015\n"
          ]
        }
      ]
    },
    {
      "cell_type": "code",
      "source": [
        ""
      ],
      "metadata": {
        "id": "bwiVi7hRmlZd"
      },
      "id": "bwiVi7hRmlZd",
      "execution_count": null,
      "outputs": []
    }
  ],
  "metadata": {
    "kernelspec": {
      "display_name": "Python 3",
      "language": "python",
      "name": "python3"
    },
    "language_info": {
      "codemirror_mode": {
        "name": "ipython",
        "version": 3
      },
      "file_extension": ".py",
      "mimetype": "text/x-python",
      "name": "python",
      "nbconvert_exporter": "python",
      "pygments_lexer": "ipython3",
      "version": "3.8.8"
    },
    "colab": {
      "name": "Final Score.ipynb",
      "provenance": [],
      "collapsed_sections": [],
      "include_colab_link": true
    }
  },
  "nbformat": 4,
  "nbformat_minor": 5
}