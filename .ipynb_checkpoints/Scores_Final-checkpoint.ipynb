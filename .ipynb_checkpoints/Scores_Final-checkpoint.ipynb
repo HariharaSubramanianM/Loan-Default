{
 "cells": [
  {
   "cell_type": "markdown",
   "id": "7780b1ed",
   "metadata": {
    "id": "7780b1ed"
   },
   "source": [
    "# Get City Score"
   ]
  },
  {
   "cell_type": "code",
   "execution_count": null,
   "id": "263721ad",
   "metadata": {
    "id": "263721ad"
   },
   "outputs": [],
   "source": [
    "import json\n",
    "import urllib\n",
    "import requests\n",
    "\n",
    "url = 'https://parseapi.back4app.com/classes/india_cities_database?limit=3369&order=ascii_name&keys=ascii_name,population'\n",
    "headers = {\n",
    "    'X-Parse-Application-Id': 'k9wzhXDJckHtuuKmMEm8hceXoCZMvxN4CTijZOjn', # This is the fake app's application id\n",
    "    'X-Parse-Master-Key': 'EpjKI6bUlgkIbOAAUaDKDFj6x2C3AnsZZJqoa4ak' # This is the fake app's readonly master key\n",
    "}\n",
    "data = json.loads(requests.get(url, headers=headers).content.decode('utf-8')) # Here you have the data that you need\n",
    "\n",
    "def find_pop(city):\n",
    "    pop = None\n",
    "    for i in data[\"results\"]:\n",
    "        if city == i[\"ascii_name\"]:\n",
    "            pop = i[\"population\"]\n",
    "            break\n",
    "    \n",
    "    if(pop<=9999):\n",
    "        return 8 #rural centre\n",
    "    elif(pop<=99999):\n",
    "        return 5 #semi urban\n",
    "    elif (pop<999999):\n",
    "        return 6 # urban centre\n",
    "    else:\n",
    "        return 7 #metroploitan\n",
    "\n"
   ]
  },
  {
   "cell_type": "markdown",
   "id": "d9cd0ad5",
   "metadata": {
    "id": "d9cd0ad5"
   },
   "source": [
    "# Find Positive Score"
   ]
  },
  {
   "cell_type": "code",
   "execution_count": null,
   "id": "i04xXOxRcC5a",
   "metadata": {
    "id": "i04xXOxRcC5a"
   },
   "outputs": [],
   "source": [
    "# Positive Dictionaries\n",
    "\n",
    "class RangeDict(dict):\n",
    "    def __getitem__(self, item):\n",
    "        if not isinstance(item, range): \n",
    "            for key in self:\n",
    "                if item in key:\n",
    "                    return self[key]\n",
    "            raise KeyError(item)\n",
    "        else:\n",
    "            return super().__getitem__(item)\n",
    "        \n",
    "        \n",
    "d1={\"A++\":10, \"A+\":9,\"A\":8.5,\"B++\":8,\"B+\":7,\"B\":6,\"C\":5,\"D\":4,\"No grade\":3}\n",
    "d2={\"BE IN CS\":10, \"BE IN ELECTRONICS\":10, \"BE IN TELECOM\":10, \"BE IN DATA SCIENCE\":10, \"BE IN OTHERS\":8.8888, \"BCOM\":7.7777, \"BA\":5.5555, \"BSC\":6.6666, \"PG IN HR\":7.2222,\"PG IN MARKETING\":7.7777,\"PG IN FINANCE\":8.8888,\"PG IN DATA SCIENCE\":10,\"CA\":10}\n",
    "d3={\"IT\":10,\"DATA SCIENCE\":9.5,\"FINANCE\":9,\"MANAGEMENT\":8,\"ART\":6}\n",
    "d4 = RangeDict({range(91,101):10,range(81,91):9,range(76,81):8,range(71,76):7,range(61,71):6,range(50,61):5,range(35,50):4})\n",
    "d7 = RangeDict({range(1,21):10,range(21,41):9.4736,range(41,61):8.9473,range(61,81):8.4210,range(81,101):7.8235,range(101,126):7.3684,range(126,151):6.8421,range(151,176):6.3157,range(176,201):5.7894})\n",
    "d9={\"GRADUATE\":10,\"12TH\":8.8888,\"10TH\":7.7777,\"BELOW 10TH\":7.2222}\n",
    "d10={\"CBSE\":10,\"ICSE\":10,\"STATE\":8.8888,\"INTERNATIONAL\":10}\n"
   ]
  },
  {
   "cell_type": "code",
   "execution_count": null,
   "id": "40fa3ddb",
   "metadata": {
    "id": "40fa3ddb"
   },
   "outputs": [],
   "source": [
    "import pandas as pd\n",
    "\n",
    "df =  pd.read_excel(r\"clgranks.xlsx\")\n",
    "df = df.set_index('Name')\n",
    "'''\n",
    "d1={\n",
    "    \"A++\":10, \n",
    "    \"A+\":9,\n",
    "    \"A\":8.5,\n",
    "    \"B++\":8,\n",
    "    \"B+\":7,\n",
    "    \"B\":6,\n",
    "    \"C\":5,\n",
    "    \"D\":4,\n",
    "    \"No grade\":3\n",
    "    }\n",
    "\n",
    "d2={\n",
    "    \"BE IN CS\":10,                #9\n",
    "    \"BE IN ELECTRONICS\":10,       #9\n",
    "    \"BE IN TELECOM\":10,           #9\n",
    "    \"BE IN DATA SCIENCE\":10,      #9\n",
    "    \"BE IN OTHERS\":8.8888,        #8\n",
    "    \"BCOM\":7.7777,                #7\n",
    "    \"BA\":5.5555,                  #5 \n",
    "    \"BSC\":6.6666,                 #6\n",
    "    \"PG IN HR\":7.2222,            #6.5\n",
    "    \"PG IN MARKETING\":7.7777,     #7 \n",
    "    \"PG IN FINANCE\":8.8888,       #8\n",
    "    \"PG IN DATA SCIENCE\":10,      #9\n",
    "    \"CA\":10                       #9\n",
    "    }\n",
    "\n",
    "d3={\n",
    "    \"IT\":10,\n",
    "    \"DATA SCIENCE\":9.5,\n",
    "    \"FINANCE\":9,\n",
    "    \"MANAGEMENT\":8,\n",
    "    \"ART\":6\n",
    "    }\n",
    "\n",
    "def factor4a(inp):\n",
    "    if inp in range(91,101):\n",
    "        return 10\n",
    "    elif inp in range(81,91):\n",
    "        return 9\n",
    "    elif inp in range(76,81):\n",
    "        return 8\n",
    "    elif inp in range(71,76):\n",
    "        return 7\n",
    "    elif inp in range(61,71):\n",
    "        return 6\n",
    "    elif inp in range(50,61):\n",
    "        return 5\n",
    "    elif inp in range(35,50):\n",
    "        return 4\n",
    "    \n",
    "\n",
    "def factor4b(inp):\n",
    "    if inp in range(91,101):\n",
    "        return 10\n",
    "    elif inp in range(81,91):\n",
    "        return 9\n",
    "    elif inp in range(76,81):\n",
    "        return 8\n",
    "    elif inp in range(71,76):\n",
    "        return 7\n",
    "    elif inp in range(61,71):\n",
    "        return 6\n",
    "    elif inp in range(50,61):\n",
    "        return 5\n",
    "    elif inp in range(35,50):\n",
    "        return 4\n",
    "'''\n",
    "def factor5(city): #Tier\n",
    "\n",
    "    first_tier = ['BANGALORE', 'CHENNAI', 'DELHI', 'HYDERABAD', 'KOLKATA', 'MUMBAI', 'AHMEDABAD', 'PUNE']\n",
    "    second_tier = ['AGRA', 'AJMER', 'ALIGARH', 'AMRAVATI', 'AMRITSAR', 'ASANSOL', 'AURANGABAD', 'BAREILLY', 'BELGAUM', 'BHAVNAGAR', 'BHIWANDI', 'BHOPAL', 'BHUBANESWAR', 'BIKANER', 'BILASPUR', 'BOKARO STEEL CITY', 'CHANDIGARH', 'COIMBATORE', 'CUTTACK', 'DEHRADUN', 'DHANBAD', 'BHILAI', 'DURGAPUR', 'ERODE', 'FARIDABAD', 'FIROZABAD', 'GHAZIABAD', 'GORAKHPUR', 'GULBARGA', 'GUNTUR', 'GWALIOR', 'GURGAON', 'GUWAHATI', 'HAMIRPUR', 'HUBLI–DHARWAD', 'INDORE', 'JABALPUR', 'JAIPUR', 'JALANDHAR', 'JAMMU', 'JAMNAGAR', 'JAMSHEDPUR', 'JHANSI', 'JODHPUR', 'KAKINADA', 'KANNUR', 'KANPUR', 'KOCHI', 'KOLHAPUR', 'KOLLAM', 'KOZHIKODE', 'KURNOOL', 'LUDHIANA', 'LUCKNOW', 'MADURAI', 'MALAPPURAM', 'MATHURA', 'GOA', 'MANGALORE', 'MEERUT', 'MORADABAD', 'MYSORE', 'NAGPUR', 'NANDED', 'NASHIK', 'NELLORE', 'NOIDA', 'PATNA', 'PONDICHERRY', 'PURULIA PRAYAGRAJ', 'RAIPUR', 'RAJKOT', 'RAJAHMUNDRY', 'RANCHI', 'ROURKELA', 'SALEM', 'SANGLI', 'SHIMLA', 'SILIGURI', 'SOLAPUR', 'SRINAGAR', 'SURAT', 'THIRUVANANTHAPURAM', 'THRISSUR', 'TIRUCHIRAPPALLI', 'TIRUPPUR', 'UJJAIN', 'BIJAPUR', 'VADODARA', 'VARANASI', 'VASAI-VIRAR CITY', 'VIJAYAWADA', 'VISAKHAPATNAM', 'VELLORE', 'WARANGAL']\n",
    "\n",
    "    if city in first_tier:\n",
    "        inp = 1\n",
    "    elif city in second_tier:\n",
    "        inp = 2\n",
    "    else:\n",
    "        inp = 3\n",
    "\n",
    "    if (inp == 1):\n",
    "        return 10      # return 9\n",
    "    elif (inp ==2):\n",
    "        return 8.8888  # return 8\n",
    "    elif (inp ==3):\n",
    "        return 7.7777  # return 7\n",
    "    else:\n",
    "        return 7.2222  # return 6.5\n",
    "\n",
    "def factor6(inp):\n",
    "    if (inp == \"ENGLISH\"):\n",
    "        return 10     # return 9\n",
    "    else:\n",
    "        return 7.7777 # return 7\n",
    "'''\n",
    "def factor7(inp):\n",
    "    if inp in range(1,21):\n",
    "        return 10              # return 9.5\n",
    "    elif inp in range(21,41):\n",
    "        return 9.4736          # return 9\n",
    "    elif inp in range(41,61):\n",
    "        return 8.9473          # return 8.5\n",
    "    elif inp in range(61,81): \n",
    "        return 8.4210          # return 8 \n",
    "    elif inp in range(81,101):\n",
    "        return 8.8235          # return 7.5\n",
    "    elif inp in range(101,126):\n",
    "        return 7.3684          # return 7\n",
    "    elif inp in range(126,151):\n",
    "        return 6.8421          # return 6.5\n",
    "    elif inp in range(151,176):\n",
    "        return 6.3157          # return 6\n",
    "    elif inp in range(176,201):\n",
    "        return 5.7894          # return 5.5\n",
    "\n",
    "d9={\n",
    "    \"GRADUATE\":10,     # 9\n",
    "    \"12TH\":8.8888,     # 8\n",
    "    \"10TH\":7.7777,     # 7\n",
    "    \"BELOW 10TH\":7.2222# 6.5\n",
    "   }\n",
    "\n",
    "d10={\n",
    "    \"CBSE\":10,         # 9  \n",
    "    \"ICSE\":10,         # 9\n",
    "    \"STATE\":8.8888,    # 8\n",
    "    \"INTERNATIONAL\":10 # 9\n",
    "    }\n",
    "'''\n",
    "\n",
    "def find_pos_score(college,current_course,upskill_course,marks10,marks12,city,medium,parent_edu,board):\n",
    "    # w1,w2,w3,w4a,w4b,w5,w6,w7,w9,w10 = 0.1,0.1,0.1,0.1,0.1,0.1,0.1,0.1,0.1,0.1\n",
    "    W1,W2,W3,W4A,W4B,W5,W6,W7,W9,W10 = 4.5,5,4.5,4,4,4,4,4.5,3.5,4\n",
    "    S=42\n",
    "    w1,w2,w3,w4a,w4b,w5,w6,w7,w9,w10 = W1/S,W2/S,W3/S,W4A/S,W4B/S,W5/S,W6/S,W7/S,W9/S,W10/S\n",
    "\n",
    "    f1=d1[df.loc[college.strip().upper()].NAAC]\n",
    "    f2=d2[current_course.strip().upper()]\n",
    "    f3=d3[upskill_course.strip().upper()]\n",
    "    f4a = d4[marks10]\n",
    "    f4b = d4[marks12]\n",
    "    f5 = factor5(city.strip().upper())\n",
    "    f6 = factor6(medium.strip().upper())\n",
    "    f7 = d7[df.loc[college.strip().upper()].Rank]\n",
    "    f9 = d9[parent_edu.strip().upper()]\n",
    "    f10 = d10[board.strip().upper()]\n",
    "\n",
    "    score = w1*f1 + w2*f2 + w3*f3 + w4a*f4a + w4b*f4b + w5*f5 + w6*f6 + w7*f7 + w9*f9 + w10*f10\n",
    "    score = round(score,2)\n",
    "    return score"
   ]
  },
  {
   "cell_type": "markdown",
   "id": "fdcd236a",
   "metadata": {
    "id": "fdcd236a"
   },
   "source": [
    "# Find Negative Score"
   ]
  },
  {
   "cell_type": "code",
   "execution_count": null,
   "id": "2InW153UawOr",
   "metadata": {
    "id": "2InW153UawOr"
   },
   "outputs": [],
   "source": [
    "# Negative Dictionaries\n",
    "\n",
    "class RangeDict(dict):\n",
    "    def __getitem__(self, item):\n",
    "        if not isinstance(item, range): \n",
    "            for key in self:\n",
    "                if item in key:\n",
    "                    return self[key]\n",
    "            raise KeyError(item)\n",
    "        else:\n",
    "            return super().__getitem__(item)\n",
    "        \n",
    "        \n",
    "dB = {'M':10,'U':7.5}\n",
    "dD = {'Y':6.66,'N':10}\n",
    "dE = {'M':7.04,'F':10}\n",
    "dF = RangeDict({range(100000,200000):4.71,range(200000,400000):5.294,range(400000,600000):5.88,range(600000,800000):6.47,range(800000,1000000):7.06,range(1000000,1400000):7.65,range(1400000,1600000):8.24,range(1600000,2000000):8.823,range(2000000,2500000):9.41,range(2500000,3000001):10})\n",
    "dG = RangeDict({range(0,6):10,range(6,8):9.375,range(8,11):8.75,range(11,14):8.125,range(14,16):7.5})\n",
    "dH = {'Y':6.25,'N':10}\n",
    "dI = RangeDict({range(18,23):6.66,range(23,25):7.77,range(25,100):10})\n"
   ]
  },
  {
   "cell_type": "code",
   "execution_count": null,
   "id": "39ba2ff7",
   "metadata": {
    "id": "39ba2ff7"
   },
   "outputs": [],
   "source": [
    "# def factorB(inp):\n",
    "#   dB = {'M':10,'U':7.5}\n",
    "#   return dB[inp.upper()]\n",
    "    \n",
    "\n",
    "def factorC(inp1,inp2):\n",
    "  marg = inp1-inp2\n",
    "  marg_perc = (marg/inp1)*100\n",
    "  risk_val = 10 - marg_perc*0.0918\n",
    "  return risk_val\n",
    "    \n",
    "'''\n",
    "def factorD(inp):\n",
    "  dD = {'Y':6.66,'N':10}\n",
    "  return dD[inp.upper()]\n",
    "\n",
    "def factorE(inp):\n",
    "  dE = {'M':7.04,'F':10}\n",
    "  return dE[inp.upper()]\n",
    "\n",
    "def factorF(inp):\n",
    "    if inp>=100000 and inp<200000:\n",
    "        return 4.71\n",
    "    elif inp>=200000 and inp<400000:\n",
    "        return 5.294\n",
    "    elif inp>=400000 and inp<600000:\n",
    "        return 5.88\n",
    "    elif inp>=600000 and inp<800000:\n",
    "        return 6.47\n",
    "    elif inp>=800000 and inp<1000000:\n",
    "        return 7.06\n",
    "    elif inp>=1000000 and inp<1400000:\n",
    "        return 7.65\n",
    "    elif inp>=1400000 and inp<1600000:\n",
    "        return 8.24\n",
    "    elif inp>=1600000 and inp<2000000:\n",
    "        return 8.823\n",
    "    elif inp>=2000000 and inp<2500000:\n",
    "        return 9.41\n",
    "    elif inp>=2500000 and inp<=3000000:\n",
    "        return 10\n",
    "        \n",
    "def factorG(inp):\n",
    "    if inp<=5:\n",
    "        return 10\n",
    "    elif inp>5 and inp<=7:\n",
    "        return 9.375\n",
    "    elif inp>7 and inp<=10:\n",
    "        return 8.75\n",
    "    elif inp>10 and inp<=13:\n",
    "        return 8.125\n",
    "    elif inp>13 and inp<=15:\n",
    "        return 7.5\n",
    "    \n",
    "def factorH(inp):\n",
    "  dH = {'Y':6.25,'N':10}\n",
    "  return dH[inp.upper()]\n",
    "    \n",
    "def factorI(inp):\n",
    "    if inp>=18 and inp<=22:\n",
    "        return 6.66\n",
    "    elif inp>22 and inp<=24:\n",
    "        return 7.77\n",
    "    else:\n",
    "        return 10\n",
    "'''\n",
    "        \n",
    "def find_neg_score(region,mar_status,bow_margin,security,gender,amount,period,kyc,age):\n",
    "    fA = find_pop(region)\n",
    "    fB = dB[mar_status.upper()]\n",
    "    fC = factorC(bow_margin,amount)\n",
    "    fD = dD[security.upper()]\n",
    "    fE = dE[gender.upper()]\n",
    "    fF = dF[amount]\n",
    "    fG = dG[period]\n",
    "    fH = dH[kyc.upper()]\n",
    "    fI = dI[age]\n",
    "    # print(fA,fB,fC,fD,fE,fF,fG,fH,fI)\n",
    "    # w1,w2,w3,w4,w5,w6,w7,w8,w9 = 0.2,0.1,0.1,0.1,0.1,0.1,0.1,0.1,0.1\n",
    "    W1,W2,W3,W4,W5,W6,W7,W8,W9 = 3.5,3.5,5,5,4,4.5,4,5,4\n",
    "    S=38.5\n",
    "    w1,w2,w3,w4,w5,w6,w7,w8,w9 = W1/S,W2/S,W3/S,W4/S,W5/S,W6/S,W7/S,W8/S,W9/S\n",
    "    score = w1*fA + w2*fB + w3*fC + w4*fD + w5*fE + w6*fF + w7*fG + w8*fH + w9*fI\n",
    "    score = round(score,2)\n",
    "    return score\n",
    "\n"
   ]
  },
  {
   "cell_type": "code",
   "execution_count": null,
   "id": "EbHQ18lNauPI",
   "metadata": {
    "id": "EbHQ18lNauPI"
   },
   "outputs": [],
   "source": []
  },
  {
   "cell_type": "markdown",
   "id": "f9269512",
   "metadata": {
    "id": "f9269512"
   },
   "source": [
    "# Calculate Final Score"
   ]
  },
  {
   "cell_type": "markdown",
   "id": "ZKmbEDMRjndW",
   "metadata": {
    "id": "ZKmbEDMRjndW"
   },
   "source": [
    "FINAL SCORE CALCULATION\n",
    "\n",
    "min positive = 5.98\n",
    "min negative = 6.0 \n",
    "\n",
    "max pos-neg = 10-6 = 4\n",
    "min pos-neg = -4.02\n",
    "\n",
    "range = 8.02\n",
    "\n",
    "final value = [ (val+4.02)/8.02 ] * 10"
   ]
  },
  {
   "cell_type": "code",
   "execution_count": null,
   "id": "97f67983",
   "metadata": {
    "colab": {
     "base_uri": "https://localhost:8080/"
    },
    "id": "97f67983",
    "outputId": "e50e6535-3d71-4b6b-dc25-4c82dbe86e77"
   },
   "outputs": [
    {
     "name": "stdout",
     "output_type": "stream",
     "text": [
      "9.51\n"
     ]
    }
   ],
   "source": [
    "pos_score = find_pos_score(\"Thiagarajar College of Engineering\",\"BE in CS\",\"IT\",92,91,\"Madurai\",\"English\",\"Graduate\",\"State\")\n",
    "print(pos_score)"
   ]
  },
  {
   "cell_type": "code",
   "execution_count": null,
   "id": "98932615",
   "metadata": {
    "colab": {
     "base_uri": "https://localhost:8080/"
    },
    "id": "98932615",
    "outputId": "96f01219-284f-4ffe-c624-de7ae278d157"
   },
   "outputs": [
    {
     "name": "stdout",
     "output_type": "stream",
     "text": [
      "7.21\n"
     ]
    }
   ],
   "source": [
    "neg_score = find_neg_score(\"Mumbai\",\"U\",1000000,\"Y\",\"M\",800000,10,\"Y\",21)\n",
    "print(neg_score)"
   ]
  },
  {
   "cell_type": "code",
   "execution_count": null,
   "id": "DqQ8toPJjwrL",
   "metadata": {
    "colab": {
     "base_uri": "https://localhost:8080/"
    },
    "id": "DqQ8toPJjwrL",
    "outputId": "f4f9dd3b-a883-4030-f7b3-1d90b5fdd642"
   },
   "outputs": [
    {
     "name": "stdout",
     "output_type": "stream",
     "text": [
      "7.8802992518703245\n"
     ]
    }
   ],
   "source": [
    "final_score = ((pos_score-neg_score+4.02)/8.02)*10\n",
    "print(final_score)"
   ]
  },
  {
   "cell_type": "markdown",
   "id": "6121dc26",
   "metadata": {
    "id": "6121dc26"
   },
   "source": [
    "# Positive Score"
   ]
  },
  {
   "cell_type": "code",
   "execution_count": null,
   "id": "fce66c82",
   "metadata": {
    "id": "fce66c82"
   },
   "outputs": [],
   "source": [
    "college = input(\"Enter College name : \")\n",
    "current_course = input(\"Enter currently enrolled course : \")\n",
    "upskill_course = input(\"Enter the course chosen to upskill : \")\n",
    "marks10 = int(input(\"Enter the marks secured in class 10 : \"))\n",
    "marks12 = int(input(\"Enter the marks secured in class 12 : \"))\n",
    "edu_city = input(\"Enter the city of education : \")\n",
    "medium = input(\"Enter the medium of instruction in school : \")\n",
    "parent_edu = input(\"Enter the highest qualification of your parents : \")\n",
    "board = input(\"Enter the school board : \")\n",
    "\n",
    "pos_score = find_pos_score(college,current_course,upskill_course,marks10,marks12,edu_city,medium,parent_edu,board)\n",
    "print(pos_score)"
   ]
  },
  {
   "cell_type": "markdown",
   "id": "90e06f2e",
   "metadata": {
    "id": "90e06f2e"
   },
   "source": [
    "# Negative Score"
   ]
  },
  {
   "cell_type": "code",
   "execution_count": null,
   "id": "18693743",
   "metadata": {
    "id": "18693743"
   },
   "outputs": [],
   "source": [
    "region = input(\"Enter your current region : \")\n",
    "mar_status = input(\"Enter your marital status ('M' for Married / 'U' for Unmarried) : \")\n",
    "bow_margin = input(\"Enter the borrower margin you wish to pay : \")\n",
    "security = input(\"Do you have a security for applying loan ('Y' for Yes / 'N' for  No) : \")\n",
    "gender = input(\"Enter you Gender ('M' for Male / 'F' for Female): \")\n",
    "amount = int(input(\"Enter the loan amount : \"))\n",
    "period = int(input(\"Enter the repayment period : \"))\n",
    "kyc = input(\"Have you uploaded Aadhar card for KYC ? \")\n",
    "age = int(input(\"Enter your age : \"))\n",
    "\n",
    "neg_score = find_neg_score(region,mar_status,bow_margin,security,gender,amount,period,kyc,age)\n",
    "print(neg_score)"
   ]
  },
  {
   "cell_type": "code",
   "execution_count": null,
   "id": "3mtZ1rHtjDEQ",
   "metadata": {
    "id": "3mtZ1rHtjDEQ"
   },
   "outputs": [],
   "source": []
  }
 ],
 "metadata": {
  "colab": {
   "collapsed_sections": [],
   "name": "Scores Final.ipynb",
   "provenance": []
  },
  "kernelspec": {
   "display_name": "Python 3",
   "language": "python",
   "name": "python3"
  },
  "language_info": {
   "codemirror_mode": {
    "name": "ipython",
    "version": 3
   },
   "file_extension": ".py",
   "mimetype": "text/x-python",
   "name": "python",
   "nbconvert_exporter": "python",
   "pygments_lexer": "ipython3",
   "version": "3.8.8"
  }
 },
 "nbformat": 4,
 "nbformat_minor": 5
}
