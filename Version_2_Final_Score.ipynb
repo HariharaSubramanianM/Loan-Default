{
  "cells": [
    {
      "cell_type": "markdown",
      "metadata": {
        "id": "view-in-github",
        "colab_type": "text"
      },
      "source": [
        "<a href=\"https://colab.research.google.com/github/HariharaSubramanianM/Loan-Default/blob/master/Version_2_Final_Score.ipynb\" target=\"_parent\"><img src=\"https://colab.research.google.com/assets/colab-badge.svg\" alt=\"Open In Colab\"/></a>"
      ]
    },
    {
      "cell_type": "markdown",
      "source": [
        "Imports and Normalize"
      ],
      "metadata": {
        "id": "fzbw7Ng1WByN"
      },
      "id": "fzbw7Ng1WByN"
    },
    {
      "cell_type": "code",
      "source": [
        "import pandas as pd\n",
        "\n",
        "pdict =  pd.read_excel(r\"PositiveFactors.xlsx\",sheet_name=['Factor1','Factor2','Factor3','Factor4','Factor5','Factor6','Factor7','Factor9','Factor10'])\n",
        "ndict =  pd.read_excel(r\"NegativeFactors.xlsx\",sheet_name=['FactorA','FactorB','FactorC','FactorD','FactorE','FactorF','FactorG','FactorH','FactorI'])\n",
        "weights = pd.read_excel(r\"factors_weight.xlsx\",sheet_name=['PosWeights','NegWeights'])\n",
        "responses = pd.read_excel(r\"LoanSurveyResponses.xlsx\")"
      ],
      "metadata": {
        "id": "U7p4_DRNV_nP"
      },
      "id": "U7p4_DRNV_nP",
      "execution_count": 126,
      "outputs": []
    },
    {
      "cell_type": "code",
      "source": [
        "PosWeights = weights.get('PosWeights').set_index('pf').T.to_dict('list')\n",
        "NegWeights = weights.get('NegWeights').set_index('nf').T.to_dict('list')"
      ],
      "metadata": {
        "id": "_UnCLgD_VwEa"
      },
      "id": "_UnCLgD_VwEa",
      "execution_count": 127,
      "outputs": []
    },
    {
      "cell_type": "code",
      "source": [
        "\n",
        "#normalize\n",
        "\n",
        "def normalize(d1):\n",
        "  dmin=min(d1.values())[0]\n",
        "  dmax=max(d1.values())[0]\n",
        "  for key in d1:\n",
        "    d1[key]=((d1[key][0]-dmin)/(dmax-dmin))*10\n",
        "  return d1\n"
      ],
      "metadata": {
        "id": "RId86UAvWYo3"
      },
      "id": "RId86UAvWYo3",
      "execution_count": 237,
      "outputs": []
    },
    {
      "cell_type": "code",
      "source": [
        "#Range Dict\n",
        "class RangeDict(dict):\n",
        "    def __getitem__(self, item):\n",
        "        if not isinstance(item, range): \n",
        "            for key in self:\n",
        "                if item in key:\n",
        "                    return self[key]\n",
        "            raise KeyError(item)\n",
        "        else:\n",
        "            return super().__getitem__(item)\n",
        "\n",
        "\n"
      ],
      "metadata": {
        "id": "rPl9HFAhWZOP"
      },
      "id": "rPl9HFAhWZOP",
      "execution_count": 238,
      "outputs": []
    },
    {
      "cell_type": "code",
      "source": [
        "def rangegen(d):\n",
        "  ret=RangeDict({})\n",
        "  for key,value in d.items():\n",
        "    start,end = [int(i) for i in key.split('-')]\n",
        "    dtemp = RangeDict({range(start,end+1):value})     # left value inclusive, right value exclusive\n",
        "    ret.update(dtemp)\n",
        "  return ret\n"
      ],
      "metadata": {
        "id": "LhYIkrL6gtLj"
      },
      "id": "LhYIkrL6gtLj",
      "execution_count": 239,
      "outputs": []
    },
    {
      "cell_type": "markdown",
      "id": "d9cd0ad5",
      "metadata": {
        "id": "d9cd0ad5"
      },
      "source": [
        "# Find Positive Score"
      ]
    },
    {
      "cell_type": "code",
      "source": [
        "p1 = normalize(pdict.get('Factor1').set_index('F1').T.to_dict('list'))\n",
        "p2 = normalize(pdict.get('Factor2').set_index('F2').T.to_dict('list'))\n",
        "p3 = normalize(pdict.get('Factor3').set_index('F3').T.to_dict('list'))\n",
        "p4 = normalize(pdict.get('Factor4').set_index('F4').T.to_dict('list'))\n",
        "p5 = normalize(pdict.get('Factor5').set_index('F5').T.to_dict('list'))\n",
        "p6 = normalize(pdict.get('Factor6').set_index('F6').T.to_dict('list'))\n",
        "p7 = normalize(pdict.get('Factor7').set_index('F7').T.to_dict('list'))\n",
        "p9 = normalize(pdict.get('Factor9').set_index('F9').T.to_dict('list'))\n",
        "p10 =normalize(pdict.get('Factor10').set_index('F10').T.to_dict('list'))\n",
        "\n",
        "\n",
        "# Range Dicts\n",
        "# p4 = rangegen(normalize(pdict.get('Factor4').set_index('F4').T.to_dict('list')))\n",
        "# p7 = rangegen(normalize(pdict.get('Factor7').set_index('F7').T.to_dict('list')))"
      ],
      "metadata": {
        "id": "GY6yDWAPWQ18"
      },
      "id": "GY6yDWAPWQ18",
      "execution_count": 240,
      "outputs": []
    },
    {
      "cell_type": "code",
      "source": [
        "def find_pos_score(naac=None,current_course=None,upskill_course=None,marks10=None,marks12=None,city=None,medium=None,rank=None,parent_edu=None,board=None):\n",
        "    \n",
        "    Weights = [4.5,5,4.5,4,4,4,4,4.5,3.5,4]\n",
        "    FactorResults = [0,0,0,0,0,0,0,0,0,0]\n",
        "    val = [naac,current_course,upskill_course,marks10,marks12,city,medium,rank,parent_edu,board]\n",
        "    \n",
        "    exprlist=['p1[naac]','p2[current_course.strip()]','p3[upskill_course.strip()]','p4[marks10]','p4[marks12]','p5[city]','p6[medium.strip()]','p7[rank]','p9[parent_edu.strip()]','p10[board.strip()]']\n",
        "    totalinputs=0\n",
        "    for i in range(len(val)):\n",
        "        if val[i]==None:            \n",
        "            Weights[i]=0\n",
        "        else:\n",
        "            totalinputs+=1\n",
        "            FactorResults[i]=eval(exprlist[i])\n",
        "            \n",
        "    wsum = sum(Weights)\n",
        "    Weights = [i/wsum for i in Weights]\n",
        "    \n",
        "    score=0\n",
        "    for i in range(len(FactorResults)):\n",
        "        score+=Weights[i]*FactorResults[i]    \n",
        "    score = round(score,2)\n",
        "    return [score,totalinputs]"
      ],
      "metadata": {
        "id": "hKlg2oNygLbN"
      },
      "id": "hKlg2oNygLbN",
      "execution_count": 241,
      "outputs": []
    },
    {
      "cell_type": "code",
      "source": [
        "# [pos_score,totalinputs] = find_pos_score(naac=\"A+\",current_course=\"BE in CS\",upskill_course=\"IT\",marks10='91-100',marks12='91-100',medium='English',rank='61-80',parent_edu='Graduate',board='State')\n",
        "# print(pos_score)\n",
        "# print(totalinputs)"
      ],
      "metadata": {
        "id": "gCXzDkEsg0jm"
      },
      "id": "gCXzDkEsg0jm",
      "execution_count": 242,
      "outputs": []
    },
    {
      "cell_type": "code",
      "source": [
        "responses.drop(columns=['Timestamp'],inplace=True)"
      ],
      "metadata": {
        "id": "oYf8mTkCl4Af"
      },
      "id": "oYf8mTkCl4Af",
      "execution_count": 247,
      "outputs": []
    },
    {
      "cell_type": "code",
      "source": [
        "factorlist = ['naac','current_course','upskill_course','marks10','marks12','city','medium','rank','parent_edu','board']\n",
        "scores=[]\n",
        "for j in range(responses.shape[0]):\n",
        "  fps = [] #functionparameters\n",
        "  for i in range(len(factorlist)):\n",
        "    try:\n",
        "      fps.append(responses[factorlist[i]][j].upper().strip())    \n",
        "    except KeyError:\n",
        "      fps.append(None)\n",
        "  [a,b] = find_pos_score(naac=fps[0],current_course=fps[1],upskill_course=fps[2],marks10=fps[3],marks12=fps[4],city=fps[5],medium=fps[6],rank=fps[7],parent_edu=fps[8],board=fps[9])\n",
        "  scores.append(a)"
      ],
      "metadata": {
        "id": "dg7JImUu11aJ"
      },
      "id": "dg7JImUu11aJ",
      "execution_count": 244,
      "outputs": []
    },
    {
      "cell_type": "code",
      "source": [
        "print(scores)"
      ],
      "metadata": {
        "colab": {
          "base_uri": "https://localhost:8080/"
        },
        "id": "7EwypS0W4lV7",
        "outputId": "0f8de5c1-f20b-42aa-c4d8-d2314fb3a9e6"
      },
      "id": "7EwypS0W4lV7",
      "execution_count": 245,
      "outputs": [
        {
          "output_type": "stream",
          "name": "stdout",
          "text": [
            "[6.84, 9.46, 7.61, 9.36, 9.57, 8.1, 9.25, 6.99, 5.51, 7.23, 8.57, 7.49, 7.57, 6.79, 7.7, 8.72, 8.98, 7.03, 7.31, 5.17, 9.79, 8.45, 7.92, 7.28, 7.09, 6.64, 7.07, 7.92, 7.71, 7.82, 8.14, 7.07, 7.38, 6.35, 7.85, 8.37, 7.07, 8.88, 9.25, 8.99, 7.92, 8.25, 9.2, 7.59, 5.8, 4.1, 4.1, 7.71, 6.35, 7.71, 7.2, 6.44, 7.28, 8.61, 7.65, 6.9, 9.74, 6.11, 8.72, 7.61, 7.39, 7.29, 6.22, 6.44, 8.97, 8.08, 7.06, 7.18, 5.06, 7.18, 6.66, 6.87, 6.96, 5.48, 6.85, 6.76, 6.73, 7.92, 6.23, 6.42, 7.28, 6.72, 9.32, 5.78, 7.44, 5.89, 6.52, 9.14, 8.75, 9.18, 9.62, 7.9, 8.51, 9.39, 6.86, 9.83, 9.39, 9.39, 9.09, 7.29, 6.7, 6.75, 7.6, 9.19, 7.65, 7.47, 6.09]\n"
          ]
        }
      ]
    },
    {
      "cell_type": "code",
      "source": [
        "cgpa=[]\n",
        "for i in responses['cgpa']:\n",
        "  start,end = [int(x) for x in i.split('-')]\n",
        "  cgpa.append((start+end)/2)\n",
        "print(cgpa)"
      ],
      "metadata": {
        "colab": {
          "base_uri": "https://localhost:8080/"
        },
        "id": "nXKSllkc53ei",
        "outputId": "0d22a358-241a-4353-c161-71761dd655f7"
      },
      "id": "nXKSllkc53ei",
      "execution_count": 246,
      "outputs": [
        {
          "output_type": "stream",
          "name": "stdout",
          "text": [
            "[78.0, 95.5, 85.5, 95.5, 85.5, 78.0, 85.5, 73.0, 73.0, 55.0, 73.0, 95.5, 73.0, 65.5, 85.5, 55.0, 55.0, 65.5, 78.0, 73.0, 78.0, 78.0, 95.5, 78.0, 85.5, 85.5, 85.5, 85.5, 85.5, 95.5, 85.5, 85.5, 85.5, 85.5, 85.5, 85.5, 85.5, 95.5, 85.5, 85.5, 85.5, 85.5, 85.5, 85.5, 85.5, 78.0, 78.0, 85.5, 73.0, 85.5, 95.5, 85.5, 85.5, 85.5, 95.5, 85.5, 85.5, 78.0, 78.0, 78.0, 85.5, 78.0, 65.5, 65.5, 85.5, 85.5, 65.5, 85.5, 73.0, 85.5, 73.0, 85.5, 65.5, 78.0, 85.5, 65.5, 78.0, 65.5, 85.5, 55.0, 78.0, 73.0, 85.5, 85.5, 85.5, 78.0, 85.5, 78.0, 85.5, 78.0, 85.5, 78.0, 85.5, 95.5, 95.5, 95.5, 95.5, 85.5, 78.0, 73.0, 65.5, 78.0, 85.5, 78.0, 73.0, 85.5, 55.0]\n"
          ]
        }
      ]
    },
    {
      "cell_type": "code",
      "source": [
        "import matplotlib.pyplot as plt\n",
        "cgpagraph = [x/10 for x in cgpa]\n",
        "plt.plot(cgpagraph)\n",
        "plt.plot(scores)\n",
        "plt.show()"
      ],
      "metadata": {
        "colab": {
          "base_uri": "https://localhost:8080/",
          "height": 265
        },
        "id": "YAfBY2CyCCa2",
        "outputId": "c3d5a35c-b4d4-45f1-ea9a-7547b45b351f"
      },
      "id": "YAfBY2CyCCa2",
      "execution_count": 248,
      "outputs": [
        {
          "output_type": "display_data",
          "data": {
            "text/plain": [
              "<Figure size 432x288 with 1 Axes>"
            ],
            "image/png": "[encoded data removed]"
          },
          "metadata": {
            "needs_background": "light"
          }
        }
      ]
    },
    {
      "cell_type": "code",
      "source": [
        "combined = zip(scores,cgpa)\n",
        "combinedlist = list(combined)\n",
        "combinedlist = sorted(combinedlist)\n",
        "len(combinedlist)"
      ],
      "metadata": {
        "colab": {
          "base_uri": "https://localhost:8080/"
        },
        "id": "zshZLmTMEG1e",
        "outputId": "d4c871fb-ef3c-485f-8c9d-1a124a896f38"
      },
      "id": "zshZLmTMEG1e",
      "execution_count": 249,
      "outputs": [
        {
          "output_type": "execute_result",
          "data": {
            "text/plain": [
              "107"
            ]
          },
          "metadata": {},
          "execution_count": 249
        }
      ]
    },
    {
      "cell_type": "code",
      "source": [
        "scorebucket=[]\n",
        "cgpabucket=[]\n",
        "for j in range(0,100,10):\n",
        "  scoresum=0\n",
        "  cgpasum=0\n",
        "  for i in combinedlist[j:j+10]:\n",
        "    scoresum+=i[0]\n",
        "    cgpasum+=i[1]\n",
        "\n",
        "  scorebucket.append(scoresum/10)\n",
        "  cgpabucket.append(cgpasum/100)\n"
      ],
      "metadata": {
        "id": "Vzz6Gh7aFGZl"
      },
      "id": "Vzz6Gh7aFGZl",
      "execution_count": 250,
      "outputs": []
    },
    {
      "cell_type": "code",
      "source": [
        "plt.plot(scorebucket)\n",
        "plt.plot(cgpabucket)\n",
        "plt.show()\n"
      ],
      "metadata": {
        "colab": {
          "base_uri": "https://localhost:8080/",
          "height": 265
        },
        "id": "n3fp4lHjGRdo",
        "outputId": "c45e101f-b85a-4d30-9e8f-fbfa4ca1f6cb"
      },
      "id": "n3fp4lHjGRdo",
      "execution_count": 251,
      "outputs": [
        {
          "output_type": "display_data",
          "data": {
            "text/plain": [
              "<Figure size 432x288 with 1 Axes>"
            ],
            "image/png": "[encoded data removed]"
          },
          "metadata": {
            "needs_background": "light"
          }
        }
      ]
    },
    {
      "cell_type": "code",
      "source": [
        ""
      ],
      "metadata": {
        "id": "aWuJyf-_DGqQ"
      },
      "id": "aWuJyf-_DGqQ",
      "execution_count": null,
      "outputs": []
    },
    {
      "cell_type": "code",
      "source": [
        ""
      ],
      "metadata": {
        "id": "R1SnsajqLbGJ"
      },
      "id": "R1SnsajqLbGJ",
      "execution_count": null,
      "outputs": []
    },
    {
      "cell_type": "code",
      "source": [
        ""
      ],
      "metadata": {
        "id": "ibVqxN5CLbTT"
      },
      "id": "ibVqxN5CLbTT",
      "execution_count": null,
      "outputs": []
    },
    {
      "cell_type": "code",
      "source": [
        ""
      ],
      "metadata": {
        "id": "bLwtt0NSLbWk"
      },
      "id": "bLwtt0NSLbWk",
      "execution_count": null,
      "outputs": []
    },
    {
      "cell_type": "code",
      "source": [
        ""
      ],
      "metadata": {
        "id": "6HyT4g9LLbau"
      },
      "id": "6HyT4g9LLbau",
      "execution_count": null,
      "outputs": []
    },
    {
      "cell_type": "code",
      "source": [
        ""
      ],
      "metadata": {
        "id": "9uXjt-CgLbdb"
      },
      "id": "9uXjt-CgLbdb",
      "execution_count": null,
      "outputs": []
    },
    {
      "cell_type": "code",
      "source": [
        ""
      ],
      "metadata": {
        "id": "6OIPF0N1Lbgx"
      },
      "id": "6OIPF0N1Lbgx",
      "execution_count": null,
      "outputs": []
    },
    {
      "cell_type": "markdown",
      "id": "fdcd236a",
      "metadata": {
        "id": "fdcd236a"
      },
      "source": [
        "# Find Negative Score"
      ]
    },
    {
      "cell_type": "markdown",
      "source": [
        "import json\n",
        "import urllib\n",
        "import requests\n",
        "\n",
        "url = 'https://parseapi.back4app.com/classes/india_cities_database?limit=3369&order=ascii_name&keys=ascii_name,population'\n",
        "headers = {\n",
        "    'X-Parse-Application-Id': 'k9wzhXDJckHtuuKmMEm8hceXoCZMvxN4CTijZOjn', # This is the fake app's application id\n",
        "    'X-Parse-Master-Key': 'EpjKI6bUlgkIbOAAUaDKDFj6x2C3AnsZZJqoa4ak' # This is the fake app's readonly master key\n",
        "}\n",
        "data = json.loads(requests.get(url, headers=headers).content.decode('utf-8')) # Here you have the data that you need\n",
        "\n",
        "city=[]\n",
        "population=[]\n",
        "\n",
        "for i in data[\"results\"]:\n",
        "  city.append(i[\"ascii_name\"])\n",
        "  population.append(i[\"population\"])\n",
        "\n",
        "cityapi=df = pd.DataFrame(list(zip(city, population)),columns =['City', 'Population'])\n",
        "filename='CityAPI.xlsx'\n",
        "cityapi.to_excel(filename)\n"
      ],
      "metadata": {
        "id": "gr--qCJwbl6m"
      },
      "id": "gr--qCJwbl6m"
    },
    {
      "cell_type": "code",
      "source": [
        "# Negative Factor - A\n",
        "def city_range_gen(d):\n",
        "  ret=RangeDict({})\n",
        "\n",
        "  # ref : https://www.rbi.org.in/scripts/bs_viewcontent.aspx?Id=2035#:~:text=Rural%3A%20population%20less%20than%2010%2C000,Metropolitan%3A%2010%20lakh%20and%20above\n",
        "\n",
        "  city_pop_range={'Rural':[0,10000],'Semi Urban':[10000,100000],'Urban':[100000,1000000],'Metropolitan':[1000000,2000000000]} #2000000000 is rounded max int range\n",
        "  for key,value in d.items():\n",
        "    start,end = city_pop_range[key]\n",
        "    dtemp = RangeDict({range(start,end):value})\n",
        "    ret.update(dtemp)\n",
        "  return ret"
      ],
      "metadata": {
        "id": "bIXS50Rhgrfu"
      },
      "id": "bIXS50Rhgrfu",
      "execution_count": null,
      "outputs": []
    },
    {
      "cell_type": "code",
      "source": [
        "# Negative Factor - C\n",
        "def bor_mar(totamt,getamt,perc):\n",
        "  diff = totamt-getamt\n",
        "  rel_diff = (diff/totamt)*100\n",
        "  risk_val = 10 - rel_diff*(perc/100)\n",
        "  return risk_val"
      ],
      "metadata": {
        "id": "JL9FGMTfml4L"
      },
      "id": "JL9FGMTfml4L",
      "execution_count": null,
      "outputs": []
    },
    {
      "cell_type": "code",
      "source": [
        "n2 = normalize(ndict.get('FactorB').set_index('FB').T.to_dict('list'))                   #Marital Status\n",
        "n8 = normalize(ndict.get('FactorH').set_index('FH').T.to_dict('list'))                   #Aadhar with KYC\n",
        "\n",
        "#RangeDict\n",
        "n1 = city_range_gen(normalize(ndict.get('FactorA').set_index('FA').T.to_dict('list')))   #city_range_gen(normalize( {'Metropolitan': [7], 'Rural': [8], 'Semi Urban': [5], 'Urban': [6]} ))\n",
        "n6 = rangegen(normalize(ndict.get('FactorF').set_index('FF').T.to_dict('list')))         #Loan Amount\n",
        "n7 = rangegen(normalize(ndict.get('FactorG').set_index('FG').T.to_dict('list')))         #Repayment Period\n",
        "n9 = rangegen(normalize(ndict.get('FactorI').set_index('FI').T.to_dict('list')))         #Age\n",
        "\n",
        "\n",
        "#Custom Number\n",
        "n3 = ndict.get('FactorC').set_index('FC').T.to_dict('list')['Margin'][0]                  #Borrower Margin\n",
        "n4 = ndict.get('FactorD').set_index('FD').T.to_dict('list')['SecurityRatio'][0]           #Security or Not\n",
        "n5 = ndict.get('FactorE').set_index('FE').T.to_dict('list')['MaletoFemale'][0]            #gender"
      ],
      "metadata": {
        "id": "Sgk0UCjEbYaB"
      },
      "id": "Sgk0UCjEbYaB",
      "execution_count": null,
      "outputs": []
    },
    {
      "cell_type": "code",
      "source": [
        "securitydict={\"Yes\":10/n4, \"No\":10}\n",
        "genderdict={\"Male\":10/n5,\"Female\":10}"
      ],
      "metadata": {
        "id": "PagerJAqpQ1I"
      },
      "id": "PagerJAqpQ1I",
      "execution_count": null,
      "outputs": []
    },
    {
      "cell_type": "markdown",
      "id": "f9269512",
      "metadata": {
        "id": "f9269512"
      },
      "source": [
        "# Calculate Final Score"
      ]
    },
    {
      "cell_type": "markdown",
      "source": [
        "FINAL SCORE CALCULATION\n",
        "\n",
        "min positive = 5.98\n",
        "min negative = 6.0 \n",
        "\n",
        "max pos-neg = 10-6 = 4\n",
        "min pos-neg = -4.02\n",
        "\n",
        "range = 8.02\n",
        "\n",
        "final value = [ (val+4.02)/8.02 ] * 10"
      ],
      "metadata": {
        "id": "ZKmbEDMRjndW"
      },
      "id": "ZKmbEDMRjndW"
    },
    {
      "cell_type": "markdown",
      "id": "6121dc26",
      "metadata": {
        "id": "6121dc26"
      },
      "source": [
        "# Positive Score"
      ]
    },
    {
      "cell_type": "code",
      "source": [
        "PosWeights"
      ],
      "metadata": {
        "colab": {
          "base_uri": "https://localhost:8080/"
        },
        "id": "MjQF3sNCWhNx",
        "outputId": "9f14066a-0f42-4ff5-c549-3011468e681c"
      },
      "id": "MjQF3sNCWhNx",
      "execution_count": null,
      "outputs": [
        {
          "output_type": "execute_result",
          "data": {
            "text/plain": [
              "{'p1': [4.5],\n",
              " 'p10': [4.0],\n",
              " 'p2': [5.0],\n",
              " 'p3': [4.5],\n",
              " 'p4': [4.0],\n",
              " 'p5': [4.0],\n",
              " 'p6': [4.0],\n",
              " 'p7': [4.5],\n",
              " 'p9': [3.5]}"
            ]
          },
          "metadata": {},
          "execution_count": 39
        }
      ]
    },
    {
      "cell_type": "code",
      "source": [
        ""
      ],
      "metadata": {
        "id": "TkKHUY28Wzrd",
        "colab": {
          "base_uri": "https://localhost:8080/"
        },
        "outputId": "b02deda4-bf68-4eef-8af9-6f7e01d6998f"
      },
      "id": "TkKHUY28Wzrd",
      "execution_count": 66,
      "outputs": [
        {
          "output_type": "execute_result",
          "data": {
            "text/plain": [
              "0        A\n",
              "1      A++\n",
              "2        A\n",
              "3      A++\n",
              "4      A++\n",
              "      ... \n",
              "102      A\n",
              "103     A+\n",
              "104    A++\n",
              "105     A+\n",
              "106     A+\n",
              "Name: naac, Length: 107, dtype: object"
            ]
          },
          "metadata": {},
          "execution_count": 66
        }
      ]
    },
    {
      "cell_type": "code",
      "source": [
        ""
      ],
      "metadata": {
        "id": "YdOCPSKAhZhN"
      },
      "id": "YdOCPSKAhZhN",
      "execution_count": null,
      "outputs": []
    },
    {
      "cell_type": "code",
      "source": [
        ""
      ],
      "metadata": {
        "id": "hxuJ-PVCnFsG"
      },
      "id": "hxuJ-PVCnFsG",
      "execution_count": null,
      "outputs": []
    },
    {
      "cell_type": "code",
      "source": [
        ""
      ],
      "metadata": {
        "id": "K_KUSdIAnFvO"
      },
      "id": "K_KUSdIAnFvO",
      "execution_count": null,
      "outputs": []
    },
    {
      "cell_type": "code",
      "source": [
        ""
      ],
      "metadata": {
        "id": "yiuYPNzsnFyN"
      },
      "id": "yiuYPNzsnFyN",
      "execution_count": null,
      "outputs": []
    },
    {
      "cell_type": "code",
      "source": [
        ""
      ],
      "metadata": {
        "id": "LfaAYMxNnF0s"
      },
      "id": "LfaAYMxNnF0s",
      "execution_count": null,
      "outputs": []
    },
    {
      "cell_type": "code",
      "source": [
        ""
      ],
      "metadata": {
        "id": "ZXBRiSVDnF8p"
      },
      "id": "ZXBRiSVDnF8p",
      "execution_count": null,
      "outputs": []
    },
    {
      "cell_type": "markdown",
      "id": "90e06f2e",
      "metadata": {
        "id": "90e06f2e"
      },
      "source": [
        "# Risk Score"
      ]
    },
    {
      "cell_type": "code",
      "source": [
        "def find_neg_score(region,mar_status,bow_margin,security,gender,amount,period,kyc,age):\n",
        "    fA = n1[citypops.loc[region].Population]\n",
        "    fB = n2[mar_status]\n",
        "    fC = bor_mar(bow_margin,amount,n3)\n",
        "    fD = securitydict[security]\n",
        "    fE = genderdict[gender]\n",
        "    fF = n6[amount]\n",
        "    fG = n7[period]\n",
        "    fH = n8[kyc]\n",
        "    fI = n9[age]\n",
        "    W1,W2,W3,W4,W5,W6,W7,W8,W9 = 3.5,3.5,5,5,4,4.5,4,5,4\n",
        "    S=38.5\n",
        "    w1,w2,w3,w4,w5,w6,w7,w8,w9 = W1/S,W2/S,W3/S,W4/S,W5/S,W6/S,W7/S,W8/S,W9/S\n",
        "    score = w1*fA + w2*fB + w3*fC + w4*fD + w5*fE + w6*fF + w7*fG + w8*fH + w9*fI\n",
        "    score = round(score,2)\n",
        "    return score"
      ],
      "metadata": {
        "id": "Z8fey3NNVACV"
      },
      "id": "Z8fey3NNVACV",
      "execution_count": null,
      "outputs": []
    },
    {
      "cell_type": "code",
      "source": [
        "neg_score = find_neg_score(\"Chennai\",\"No\",1000000,\"Yes\",\"Male\",800000,10,\"Yes\",21)\n",
        "print(neg_score)"
      ],
      "metadata": {
        "colab": {
          "base_uri": "https://localhost:8080/"
        },
        "id": "J2wHsDk2igV5",
        "outputId": "de4ee596-aa23-4fc3-f87b-0b1473d54bbf"
      },
      "id": "J2wHsDk2igV5",
      "execution_count": null,
      "outputs": [
        {
          "output_type": "stream",
          "name": "stdout",
          "text": [
            "7.31\n"
          ]
        }
      ]
    },
    {
      "cell_type": "markdown",
      "source": [
        "# Final Score"
      ],
      "metadata": {
        "id": "yyFzCT7umNBN"
      },
      "id": "yyFzCT7umNBN"
    },
    {
      "cell_type": "code",
      "source": [
        "final_score = ((pos_score-neg_score+4.02)/8.02)*10\n",
        "print(final_score)"
      ],
      "metadata": {
        "colab": {
          "base_uri": "https://localhost:8080/"
        },
        "id": "TBTkNnvOihRL",
        "outputId": "e601b77d-c571-4a03-ac91-c2496f34bba8"
      },
      "id": "TBTkNnvOihRL",
      "execution_count": null,
      "outputs": [
        {
          "output_type": "stream",
          "name": "stdout",
          "text": [
            "7.8428927680798015\n"
          ]
        }
      ]
    },
    {
      "cell_type": "code",
      "source": [
        ""
      ],
      "metadata": {
        "id": "bwiVi7hRmlZd"
      },
      "id": "bwiVi7hRmlZd",
      "execution_count": null,
      "outputs": []
    }
  ],
  "metadata": {
    "kernelspec": {
      "display_name": "Python 3",
      "language": "python",
      "name": "python3"
    },
    "language_info": {
      "codemirror_mode": {
        "name": "ipython",
        "version": 3
      },
      "file_extension": ".py",
      "mimetype": "text/x-python",
      "name": "python",
      "nbconvert_exporter": "python",
      "pygments_lexer": "ipython3",
      "version": "3.8.8"
    },
    "colab": {
      "name": "Version 2 - Final Score.ipynb",
      "provenance": [],
      "collapsed_sections": [],
      "include_colab_link": true
    }
  },
  "nbformat": 4,
  "nbformat_minor": 5
}